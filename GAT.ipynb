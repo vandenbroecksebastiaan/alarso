{
 "cells": [
  {
   "cell_type": "code",
   "execution_count": 14,
   "metadata": {},
   "outputs": [],
   "source": [
    "# Add song embeddings as node features \n"
   ]
  },
  {
   "cell_type": "code",
   "execution_count": 15,
   "metadata": {},
   "outputs": [
    {
     "name": "stdout",
     "output_type": "stream",
     "text": [
      "40060\n"
     ]
    }
   ],
   "source": [
    "import torch\n",
    "from dataset import Dataset\n",
    "dataset = Dataset()\n",
    "dataset.load(\"data\")\n",
    "print(len(dataset.nodes))"
   ]
  },
  {
   "cell_type": "code",
   "execution_count": 16,
   "metadata": {},
   "outputs": [],
   "source": [
    "for node in dataset.nodes:\n",
    "    if node[1][\"type\"] == \"album\":\n",
    "        genres = node[1][\"genres\"]\n",
    "        if \"hip hop\" in \"\".join(genres).lower():\n",
    "            node[1][\"hip_hop\"] = True\n",
    "        else:\n",
    "            node[1][\"hip_hop\"] = False\n"
   ]
  },
  {
   "cell_type": "code",
   "execution_count": 17,
   "metadata": {},
   "outputs": [
    {
     "name": "stdout",
     "output_type": "stream",
     "text": [
      "0.5152270210409745\n"
     ]
    }
   ],
   "source": [
    "hip_hip_count = 0\n",
    "total_count = 0\n",
    "for node in dataset.nodes:\n",
    "    if node[1][\"type\"] == \"album\":\n",
    "        if node[1][\"hip_hop\"]:\n",
    "            hip_hip_count += 1\n",
    "        total_count += 1\n",
    "print(hip_hip_count / total_count)"
   ]
  },
  {
   "cell_type": "code",
   "execution_count": 18,
   "metadata": {},
   "outputs": [],
   "source": [
    "# Remove edges with no ids in the nodes (the collection was stopped before expansion to these nodes)\n",
    "edge_ids = [i[0] for i in dataset.edges]\n",
    "edge_ids = list(set([i for j in edge_ids for i in j]))\n",
    "node_ids = [i[0] for i in dataset.nodes]\n",
    "not_in = [i for i in edge_ids if i not in node_ids]\n",
    "dataset.edges = [i for i in dataset.edges if i[0][1] not in not_in]\n"
   ]
  },
  {
   "cell_type": "code",
   "execution_count": 19,
   "metadata": {},
   "outputs": [],
   "source": [
    "album_nodes = [i for i in dataset.nodes if i[1][\"type\"] == \"album\"]\n",
    "artist_nodes = [i for i in dataset.nodes if i[1][\"type\"] == \"artist\"]\n",
    "song_nodes = [i for i in dataset.nodes if i[1][\"type\"] == \"song\"]\n",
    "\n",
    "album_artist_edges =  [i for i in dataset.edges if i[1][\"type\"] == \"album_artist\"]\n",
    "song_album_edges =  [i for i in dataset.edges if i[1][\"type\"] == \"song_album\"]"
   ]
  },
  {
   "cell_type": "code",
   "execution_count": 20,
   "metadata": {},
   "outputs": [],
   "source": [
    "# Change the idx of the album nodes\n",
    "album_id_map = {}\n",
    "for idx, node in enumerate(album_nodes):\n",
    "    album_id_map[node[0]] = idx\n",
    "    node[0] = idx\n",
    "\n",
    "# And change their indices in the album_artist_edges as well\n",
    "for edge in album_artist_edges:\n",
    "    edge[0][0] = album_id_map[edge[0][0]]\n",
    "\n",
    "for edge in song_album_edges:\n",
    "    edge[0][1] = album_id_map[edge[0][1]]\n",
    "\n",
    "# Change the idx of the artist nodes\n",
    "artist_id_map = {}\n",
    "for idx, node in enumerate(artist_nodes):\n",
    "    artist_id_map[node[0]] = idx\n",
    "    node[0] = idx\n",
    "\n",
    "# And change their indices as well\n",
    "for edge in album_artist_edges:\n",
    "    edge[0][1] = artist_id_map[edge[0][1]]\n",
    "\n",
    "# Change the idx of the song nodes\n",
    "song_id_map = {}\n",
    "for idx, node in enumerate(song_nodes):\n",
    "    song_id_map[node[0]] = idx\n",
    "    node[0] = idx\n",
    "\n",
    "# And change their indices as well\n",
    "for edge in song_album_edges:\n",
    "    edge[0][0] = song_id_map[edge[0][0]]"
   ]
  },
  {
   "cell_type": "code",
   "execution_count": 53,
   "metadata": {},
   "outputs": [
    {
     "name": "stdout",
     "output_type": "stream",
     "text": [
      "torch.Size([2, 17293]) torch.int64\n",
      "torch.Size([2, 31986]) torch.int64\n",
      "torch.Size([3612]) torch.float32\n",
      "torch.Size([3612]) torch.float32\n",
      "torch.Size([31986]) torch.float32\n",
      "torch.Size([4462]) torch.float32\n"
     ]
    }
   ],
   "source": [
    "album_artist_edges_idx = torch.Tensor([i[0] for i in album_artist_edges]).t().contiguous().long()\n",
    "song_album_edges_idx = torch.Tensor([i[0] for i in song_album_edges]).t().contiguous().long()\n",
    "\n",
    "album_nodes_x = torch.Tensor([i[1][\"n_tracks\"] for i in album_nodes])\n",
    "album_nodes_x_stand = (album_nodes_x - album_nodes_x.mean()) / album_nodes_x.std()\n",
    "album_nodes_x_stand = torch.clamp(album_nodes_x_stand, -3, 3)\n",
    "album_nodes_y = torch.Tensor([i[1][\"hip_hop\"] for i in album_nodes])\n",
    "song_nodes_x = torch.Tensor([i[1][\"duration\"] for i in song_nodes])\n",
    "artist_nodes_x = torch.Tensor([1 for i in artist_nodes])\n",
    "\n",
    "print(album_artist_edges_idx.shape, album_artist_edges_idx.dtype)\n",
    "print(song_album_edges_idx.shape, song_album_edges_idx.dtype)\n",
    "print(album_nodes_x.shape, album_nodes_x.dtype)\n",
    "print(album_nodes_y.shape, album_nodes_y.dtype)\n",
    "print(song_nodes_x.shape, song_nodes_x.dtype)\n",
    "print(artist_nodes_x.shape, artist_nodes_x.dtype)"
   ]
  },
  {
   "cell_type": "code",
   "execution_count": 22,
   "metadata": {},
   "outputs": [
    {
     "name": "stdout",
     "output_type": "stream",
     "text": [
      ">>> num_nodes: 35598\n",
      ">>> num_edges: 31986\n",
      ">>> node_types: ['album', 'song']\n",
      ">>> edge_types: [('song', 'in', 'album')]\n"
     ]
    },
    {
     "data": {
      "text/plain": [
       "True"
      ]
     },
     "execution_count": 22,
     "metadata": {},
     "output_type": "execute_result"
    }
   ],
   "source": [
    "from torch_geometric.data import HeteroData\n",
    "from torch_geometric.transforms import ToUndirected\n",
    "\n",
    "data = HeteroData()\n",
    "\n",
    "data[\"album\"].x = album_nodes_x_stand\n",
    "data[\"album\"].y = album_nodes_y\n",
    "data[\"song\"].x = song_nodes_x\n",
    "# data[\"artist\"].x = artist_nodes_x\n",
    "\n",
    "# data[\"album\", \"made_by\", \"artist\"].edge_index = album_artist_edges_idx\n",
    "data[\"song\", \"in\", \"album\"].edge_index = song_album_edges_idx\n",
    " \n",
    "print(\">>> num_nodes:\", data.num_nodes)\n",
    "print(\">>> num_edges:\", data.num_edges)\n",
    "print(\">>> node_types:\" , data.node_types)\n",
    "print(\">>> edge_types:\" , data.edge_types)\n",
    "data.validate()"
   ]
  },
  {
   "cell_type": "code",
   "execution_count": 63,
   "metadata": {},
   "outputs": [],
   "source": [
    "from torch_geometric.loader import NeighborLoader\n",
    "sampler = NeighborLoader(data, num_neighbors=[30]*3, batch_size=128,\n",
    "                         input_nodes=\"album\")\n"
   ]
  },
  {
   "cell_type": "code",
   "execution_count": 43,
   "metadata": {},
   "outputs": [
    {
     "name": "stdout",
     "output_type": "stream",
     "text": [
      ">>> n_samples: 903\n",
      "True\n",
      ">>> y (torch.Size([44])):\n",
      " tensor([1., 1., 1., 1., nan, nan, nan, nan, nan, nan, nan, nan, nan, nan, nan, nan, nan, nan,\n",
      "        nan, nan, nan, nan, nan, nan, nan, nan, nan, nan, nan, nan, nan, nan, nan, nan, nan, nan,\n",
      "        nan, nan, nan, nan, nan, nan, nan, nan])\n",
      ">>> input_id (torch.Size([44])):\n",
      " tensor([400, 401, 402, 403,  -1,  -1,  -1,  -1,  -1,  -1,  -1,  -1,  -1,  -1,\n",
      "         -1,  -1,  -1,  -1,  -1,  -1,  -1,  -1,  -1,  -1,  -1,  -1,  -1,  -1,\n",
      "         -1,  -1,  -1,  -1,  -1,  -1,  -1,  -1,  -1,  -1,  -1,  -1,  -1,  -1,\n",
      "         -1,  -1])\n",
      ">>> edge_type (torch.Size([40])):\n",
      " tensor([0, 0, 0, 0, 0, 0, 0, 0, 0, 0, 0, 0, 0, 0, 0, 0, 0, 0, 0, 0, 0, 0, 0, 0,\n",
      "        0, 0, 0, 0, 0, 0, 0, 0, 0, 0, 0, 0, 0, 0, 0, 0])\n",
      ">>> e_id (torch.Size([40])):\n",
      " tensor([4212, 4213, 4214, 4215, 4216, 4217, 4218, 4219, 4220, 4221, 4226, 4227,\n",
      "        4223, 4225, 4228, 4230, 4232, 4222, 4231, 4235, 4238, 4242, 4243, 4245,\n",
      "        4236, 4247, 4244, 4249, 4250, 4241, 4252, 4256, 4260, 4254, 4259, 4263,\n",
      "        4264, 4265, 4266, 4267])\n",
      ">>> x (torch.Size([44])):\n",
      " tensor([5.1629e-02, 4.9119e-01, 7.1097e-01, 7.1097e-01, 3.3807e+05, 2.6934e+05,\n",
      "        2.7683e+05, 3.2597e+05, 2.1659e+05, 2.1999e+05, 2.2765e+05, 2.6506e+05,\n",
      "        2.7724e+05, 1.8595e+05, 7.3800e+04, 2.6212e+05, 1.6573e+05, 2.4360e+05,\n",
      "        2.1659e+05, 1.4281e+05, 2.0480e+05, 2.2055e+05, 2.7177e+05, 7.6280e+04,\n",
      "        3.1157e+05, 2.5420e+05, 2.3928e+05, 3.1439e+05, 2.1975e+05, 1.9479e+05,\n",
      "        1.7864e+05, 3.2759e+05, 1.8516e+05, 1.8428e+05, 2.3372e+05, 2.4016e+05,\n",
      "        2.3971e+05, 2.0883e+05, 1.9308e+05, 2.1339e+05, 1.8553e+05, 2.0967e+05,\n",
      "        2.6141e+05, 2.6501e+05])\n",
      ">>> node_type (torch.Size([44])):\n",
      " tensor([0, 0, 0, 0, 1, 1, 1, 1, 1, 1, 1, 1, 1, 1, 1, 1, 1, 1, 1, 1, 1, 1, 1, 1,\n",
      "        1, 1, 1, 1, 1, 1, 1, 1, 1, 1, 1, 1, 1, 1, 1, 1, 1, 1, 1, 1])\n",
      ">>> edge_index (torch.Size([2, 40])):\n",
      " tensor([[ 4,  5,  6,  7,  8,  9, 10, 11, 12, 13, 14, 15, 16, 17, 18, 19, 20, 21,\n",
      "         22, 23, 24, 25, 26, 27, 28, 29, 30, 31, 32, 33, 34, 35, 36, 37, 38, 39,\n",
      "         40, 41, 42, 43],\n",
      "        [ 0,  0,  0,  0,  0,  0,  0,  0,  0,  0,  1,  1,  1,  1,  1,  1,  1,  1,\n",
      "          1,  1,  2,  2,  2,  2,  2,  2,  2,  2,  2,  2,  3,  3,  3,  3,  3,  3,\n",
      "          3,  3,  3,  3]])\n",
      ">>> n_id (torch.Size([44])):\n",
      " tensor([ 400,  401,  402,  403, 4214, 4221, 4220, 4219, 4218, 4216, 4215, 4213,\n",
      "        4212, 4217, 4232, 4231, 4235, 4233, 4229, 4227, 4225, 4230, 4226, 4222,\n",
      "        4250, 4246, 4244, 4242, 4245, 4240, 4243, 4238, 4237, 4247, 4260, 4264,\n",
      "        4259, 4266, 4261, 4254, 4255, 4256, 4257, 4258])\n"
     ]
    },
    {
     "data": {
      "image/png": "[encoded data removed]",
      "text/plain": [
       "<Figure size 1000x500 with 1 Axes>"
      ]
     },
     "metadata": {},
     "output_type": "display_data"
    }
   ],
   "source": [
    "from torch_geometric.utils import to_networkx\n",
    "import networkx as nx\n",
    "import matplotlib.pyplot as plt\n",
    "\n",
    "samples = [i.to_homogeneous() for i in iter(sampler)]\n",
    "print(\">>> n_samples:\", len(samples))\n",
    "\n",
    "sample = samples[100]\n",
    "print(sample.is_directed())\n",
    "\n",
    "for i in sample.keys: print(f\">>> {i} ({sample[i].shape}):\\n {sample[i]}\")\n",
    "\n",
    "vis = to_networkx(sample, node_attrs=[\"n_id\"], edge_attrs=[\"e_id\"])\n",
    "plt.figure(figsize=(10, 5)) \n",
    "nx.draw(vis, node_color=sample[\"node_type\"], cmap=plt.cm.Set1, with_labels=True)\n",
    "plt.show()\n"
   ]
  },
  {
   "cell_type": "code",
   "execution_count": 82,
   "metadata": {},
   "outputs": [
    {
     "name": "stdout",
     "output_type": "stream",
     "text": [
      "<class 'torch_geometric.data.data.Data'>\n",
      "['__call__', '__cat_dim__', '__class__', '__contains__', '__copy__', '__deepcopy__', '__delattr__', '__delitem__', '__dict__', '__dir__', '__doc__', '__eq__', '__format__', '__ge__', '__getattr__', '__getattribute__', '__getitem__', '__getstate__', '__gt__', '__hash__', '__inc__', '__init__', '__init_subclass__', '__iter__', '__le__', '__len__', '__lt__', '__module__', '__ne__', '__new__', '__reduce__', '__reduce_ex__', '__repr__', '__setattr__', '__setitem__', '__setstate__', '__sizeof__', '__str__', '__subclasshook__', '__weakref__', '_edge_attr_cls', '_edge_to_layout', '_edges_to_layout', '_get_edge_index', '_get_tensor', '_get_tensor_size', '_multi_get_tensor', '_put_edge_index', '_put_tensor', '_remove_edge_index', '_remove_tensor', '_store', '_tensor_attr_cls', '_to_type', 'apply', 'apply_', 'batch', 'clone', 'coalesce', 'contains_isolated_nodes', 'contains_self_loops', 'contiguous', 'coo', 'cpu', 'csc', 'csr', 'cuda', 'debug', 'detach', 'detach_', 'edge_attr', 'edge_attrs', 'edge_index', 'edge_stores', 'edge_subgraph', 'edge_weight', 'from_dict', 'generate_ids', 'get_all_edge_attrs', 'get_all_tensor_attrs', 'get_edge_index', 'get_tensor', 'get_tensor_size', 'has_isolated_nodes', 'has_self_loops', 'is_coalesced', 'is_cuda', 'is_directed', 'is_edge_attr', 'is_node_attr', 'is_undirected', 'keys', 'multi_get_tensor', 'node_attrs', 'node_stores', 'num_edge_features', 'num_edge_types', 'num_edges', 'num_faces', 'num_features', 'num_node_features', 'num_node_types', 'num_nodes', 'pin_memory', 'pos', 'put_edge_index', 'put_tensor', 'record_stream', 'remove_edge_index', 'remove_tensor', 'requires_grad_', 'share_memory_', 'size', 'stores', 'stores_as', 'subgraph', 'to', 'to_dict', 'to_heterogeneous', 'to_namedtuple', 'update', 'update_tensor', 'validate', 'view', 'x', 'y']\n"
     ]
    },
    {
     "ename": "KeyError",
     "evalue": "0",
     "output_type": "error",
     "traceback": [
      "\u001b[0;31m---------------------------------------------------------------------------\u001b[0m",
      "\u001b[0;31mKeyError\u001b[0m                                  Traceback (most recent call last)",
      "Cell \u001b[0;32mIn[82], line 35\u001b[0m\n\u001b[1;32m     32\u001b[0m \u001b[39mprint\u001b[39m(\u001b[39mtype\u001b[39m(batch))\n\u001b[1;32m     33\u001b[0m \u001b[39mprint\u001b[39m(\u001b[39mdir\u001b[39m(batch))\n\u001b[0;32m---> 35\u001b[0m \u001b[39mprint\u001b[39m(batch[\u001b[39m0\u001b[39;49m])\n\u001b[1;32m     37\u001b[0m stop\n\u001b[1;32m     39\u001b[0m \u001b[39mprint\u001b[39m(sample\u001b[39m.\u001b[39mx\u001b[39m.\u001b[39mshape)\n",
      "File \u001b[0;32m~/fun/alarso/venv/lib/python3.10/site-packages/torch_geometric/data/data.py:457\u001b[0m, in \u001b[0;36mData.__getitem__\u001b[0;34m(self, key)\u001b[0m\n\u001b[1;32m    456\u001b[0m \u001b[39mdef\u001b[39;00m \u001b[39m__getitem__\u001b[39m(\u001b[39mself\u001b[39m, key: \u001b[39mstr\u001b[39m) \u001b[39m-\u001b[39m\u001b[39m>\u001b[39m Any:\n\u001b[0;32m--> 457\u001b[0m     \u001b[39mreturn\u001b[39;00m \u001b[39mself\u001b[39;49m\u001b[39m.\u001b[39;49m_store[key]\n",
      "File \u001b[0;32m~/fun/alarso/venv/lib/python3.10/site-packages/torch_geometric/data/storage.py:104\u001b[0m, in \u001b[0;36mBaseStorage.__getitem__\u001b[0;34m(self, key)\u001b[0m\n\u001b[1;32m    103\u001b[0m \u001b[39mdef\u001b[39;00m \u001b[39m__getitem__\u001b[39m(\u001b[39mself\u001b[39m, key: \u001b[39mstr\u001b[39m) \u001b[39m-\u001b[39m\u001b[39m>\u001b[39m Any:\n\u001b[0;32m--> 104\u001b[0m     \u001b[39mreturn\u001b[39;00m \u001b[39mself\u001b[39;49m\u001b[39m.\u001b[39;49m_mapping[key]\n",
      "\u001b[0;31mKeyError\u001b[0m: 0"
     ]
    }
   ],
   "source": [
    "import torch\n",
    "import torch.nn.functional as F\n",
    "from torch_geometric.nn import GCNConv\n",
    "from torch_geometric.data import Batch\n",
    "\n",
    "class GCN(torch.nn.Module):\n",
    "    def __init__(self, hidden_channels):\n",
    "        super().__init__()\n",
    "        torch.manual_seed(1234567)\n",
    "        self.conv1 = GCNConv(5, hidden_channels)\n",
    "        self.conv2 = GCNConv(hidden_channels, 1)\n",
    "\n",
    "    def forward(self, x, edge_index):\n",
    "        x = self.conv1(x, edge_index)\n",
    "        x = x.relu()\n",
    "        x = F.dropout(x, p=0.5, training=self.training)\n",
    "        x = self.conv2(x, edge_index)\n",
    "        x = F.sigmoid(x)\n",
    "        return x\n",
    "\n",
    "model = GCN(hidden_channels=10).cuda()\n",
    "\n",
    "optimizer = torch.optim.Adam(model.parameters(), lr=0.001)\n",
    "criterion = torch.nn.BCELoss()\n",
    "\n",
    "samples = [i.cuda() for i in iter(sampler)]\n",
    "batches = [i.to_homogeneous() for i in iter(sampler)]\n",
    "\n",
    "for idx, batch in enumerate(batches):\n",
    "    optimizer.zero_grad()\n",
    "\n",
    "    print(type(batch))\n",
    "    print(dir(batch))\n",
    "\n",
    "    print(batch[0])\n",
    "\n",
    "    stop\n",
    "\n",
    "    print(sample.x.shape)\n",
    "    # x = sample.x[:5].unsqueeze(0)\n",
    "    # y = sample.y[0]\n",
    "    # edge_index = sample.edge_index\n",
    "\n",
    "    # out = model(x, torch.empty(2, 0, dtype=torch.long).cuda())\n",
    "    # loss = criterion(out.squeeze(), y.squeeze(0))\n",
    "\n",
    "    # print(loss.item(), out.item(), y.item())\n",
    "\n"
   ]
  }
 ],
 "metadata": {
  "kernelspec": {
   "display_name": "venv",
   "language": "python",
   "name": "python3"
  },
  "language_info": {
   "codemirror_mode": {
    "name": "ipython",
    "version": 3
   },
   "file_extension": ".py",
   "mimetype": "text/x-python",
   "name": "python",
   "nbconvert_exporter": "python",
   "pygments_lexer": "ipython3",
   "version": "3.10.6"
  },
  "orig_nbformat": 4
 },
 "nbformat": 4,
 "nbformat_minor": 2
}
